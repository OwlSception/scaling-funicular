{
 "cells": [
  {
   "cell_type": "markdown",
   "id": "5a5a854a",
   "metadata": {},
   "source": [
    "# Project Question \n",
    "\n",
    "Identify the problem or question that the analysis aims to answer. \n",
    "\n",
    "# Data Sources\n",
    "\n",
    "Discuss the sources of data used in the analysis. Include information about the data collection method, data quality, and any limitations or biases associated with the data.\n",
    "\n",
    "* Web Scrapers:\n",
    "* APIs:\n",
    "* Survey Platforms: \n",
    "\n",
    "\n",
    "# Data Preprocessing\n",
    "\n",
    "Describe the preprocessing steps taken to clean, transform, and prepare the data for analysis. Include any statistical tests or techniques used to ensure data quality and integrity.\n",
    "\n",
    "* Tools: \n",
    "    + Excel\n",
    "    + Python\n",
    "    + R\n",
    "\n",
    "\n",
    "# Exploratory Data Analysis (EDA)\n",
    "\n",
    "Perform a thorough exploratory data analysis to understand the data, identify patterns, and identify any potential issues or biases. This section should include data visualization techniques, summary statistics, and any statistical tests or techniques used to validate findings.\n",
    "\n",
    "* Tools:\n",
    "    + SPSS\n",
    "    + SAS\n",
    "    + R\n",
    "    + Python\n",
    "    + MATLAB\n",
    "    + TensorFlow, Pytorch\n",
    "\n",
    "\n",
    "* Visualization Tools:\n",
    "    + Tableau\n",
    "    + ggplot2\n",
    "\n",
    "\n",
    "### Hypothesis \n",
    "+ Hypothesis:\n",
    "    + Null Hypothesis: \n",
    "    + Alt Hypothesis: \n",
    "\n",
    "\n",
    "RATH \n",
    "Data Painter\n"
   ]
  }
 ],
 "metadata": {
  "language_info": {
   "name": "python"
  }
 },
 "nbformat": 4,
 "nbformat_minor": 5
}
